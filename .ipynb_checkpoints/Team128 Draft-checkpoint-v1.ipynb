{
 "cells": [
  {
   "cell_type": "markdown",
   "metadata": {
    "id": "j01aH0PR4Sg-"
   },
   "source": [
    "# Before you use this template\n",
    "\n",
    "This template is just a recommended template for project Report. It only considers the general type of research in our paper pool. Feel free to edit it to better fit your project. You will iteratively update the same notebook submission for your draft and the final submission. Please check the project rubriks to get a sense of what is expected in the template.\n",
    "\n",
    "---\n",
    "\n",
    "# FAQ and Attentions\n",
    "* Copy and move this template to your Google Drive. Name your notebook by your team ID (upper-left corner). Don't eidt this original file.\n",
    "* This template covers most questions we want to ask about your reproduction experiment. You don't need to exactly follow the template, however, you should address the questions. Please feel free to customize your report accordingly.\n",
    "* any report must have run-able codes and necessary annotations (in text and code comments).\n",
    "* The notebook is like a demo and only uses small-size data (a subset of original data or processed data), the entire runtime of the notebook including data reading, data process, model training, printing, figure plotting, etc,\n",
    "must be within 8 min, otherwise, you may get penalty on the grade.\n",
    "  * If the raw dataset is too large to be loaded  you can select a subset of data and pre-process the data, then, upload the subset or processed data to Google Drive and load them in this notebook.\n",
    "  * If the whole training is too long to run, you can only set the number of training epoch to a small number, e.g., 3, just show that the training is runable.\n",
    "  * For results model validation, you can train the model outside this notebook in advance, then, load pretrained model and use it for validation (display the figures, print the metrics).\n",
    "* The post-process is important! For post-process of the results,please use plots/figures. The code to summarize results and plot figures may be tedious, however, it won't be waste of time since these figures can be used for presentation. While plotting in code, the figures should have titles or captions if necessary (e.g., title your figure with \"Figure 1. xxxx\")\n",
    "* There is not page limit to your notebook report, you can also use separate notebooks for the report, just make sure your grader can access and run/test them.\n",
    "* If you use outside resources, please refer them (in any formats). Include the links to the resources if necessary."
   ]
  },
  {
   "cell_type": "markdown",
   "metadata": {
    "id": "dlv6knX04FiY"
   },
   "source": [
    "# Mount Notebook to Google Drive\n",
    "Upload the data, pretrianed model, figures, etc to your Google Drive, then mount this notebook to Google Drive. After that, you can access the resources freely.\n",
    "\n",
    "Instruction: https://colab.research.google.com/notebooks/io.ipynb\n",
    "\n",
    "Example: https://colab.research.google.com/drive/1srw_HFWQ2SMgmWIawucXfusGzrj1_U0q\n",
    "\n",
    "Video: https://www.youtube.com/watch?v=zc8g8lGcwQU"
   ]
  },
  {
   "cell_type": "code",
   "execution_count": null,
   "metadata": {
    "id": "sfk8Zrul_E8V"
   },
   "outputs": [],
   "source": [
    "from google.colab import drive\n",
    "drive.mount('/content/drive')"
   ]
  },
  {
   "cell_type": "markdown",
   "metadata": {
    "id": "MQ0sNuMePBXx"
   },
   "source": [
    "# Introduction\n",
    "This is an introduction to your report, you should edit this text/mardown section to compose. In this text/markdown, you should introduce:\n",
    "\n",
    "*   Background of the problem\n",
    "  * what type of problem: disease/readmission/mortality prediction,  feature engineeing, data processing, etc\n",
    "  * what is the importance/meaning of solving the problem\n",
    "  * what is the difficulty of the problem\n",
    "  * the state of the art methods and effectiveness.\n",
    "\n",
    "\n",
    "\n",
    "*   Paper explanation\n",
    "  * what did the paper propose\n",
    "  * what is the innovations of the method\n",
    "  * how well the proposed method work (in its own metrics)\n",
    "  * what is the contribution to the reasearch regime (referring the Background above, how important the paper is to the problem).\n",
    "\n",
    "## Background:\n",
    "\n",
    "Current pretraining objectives in predictive EHR-based models are limited to predicting a fraction of ICD codes within a patient’s visit, when in reality, patients usually have multiple, often highly-correlated diseases. In addition, current models are unable to accurately predict the timeline of correlated diagnoses and could lead to missed opportunities in preventative care. Predictive tasks surrounding healthcare data can be challenging due to the complexity of healthcare data, which includes high-dimensional and often incomplete patient data over time. The state of the art methods used to solve similar healthcare related problems have been transformer based deep learning models trained on extensive datasets and fine-tuned for specific tasks. Despite their success, current models are often fine-tuned to focus on predicting a limited set of outcomes, thus overlooking the interconnected nature of various health conditions.\n",
    "\n",
    "\n",
    "\n",
    "## Paper Explanation:\n",
    "\n",
    "The paper presents \"TransformEHR,\" a novel generative encoder-decoder model leveraging transformer architecture, specifically designed for predicting future patient outcomes based on their longitudinal EHRs. The authors utilized techniques like visit-masking and time embedding to achieve results that outperform the other state of the art models. For example, when testing their encoder-decoder model against an encoder only model, the authors were able to achieve an, “improvement of 95%CI: 0.74%–1.16%, p < 0.001 in AUROC across all diseases/outcomes tested.” While the paper boasted strong results on a variety of both common and uncommon diseases, the authors mentioned that their work was related to predictive model studies focused on intentional self-harm. TransformEHR performed exceptionally well within this subspace and esteemed to reduce incremental cost-effective ratio by $109k per quality-adjusted life-years."
   ]
  },
  {
   "cell_type": "code",
   "execution_count": null,
   "metadata": {
    "id": "ABD4VhFZbehA"
   },
   "outputs": [],
   "source": [
    "# code comment is used as inline annotations for your coding"
   ]
  },
  {
   "cell_type": "markdown",
   "metadata": {
    "id": "uygL9tTPSVHB"
   },
   "source": [
    "# Scope of Reproducibility:\n",
    "\n",
    "List hypotheses from the paper you will test and the corresponding experiments you will run.\n",
    "\n",
    "\n",
    "1.   Hypothesis 1: Visit Masking vs Code Masking\n",
    "  * This test will see whether masking all ICD codes of a visit has significant results compared to masking only a selected fragment of ICD codes per visit\n",
    "  * Both models will be encoder-decoder\n",
    "2.   Hypothesis 2: Time embedding vs Time Embedding Excluded\n",
    "  * This test will see whether incliding time embedding (for temporal information of prior visits) has significant results compared to excluding them.\n",
    "  * Both models will be encoder-decoder\n",
    "3. (If time allows) encoder-decoder vs encoder only\n",
    "  * This test compares the performance of an enconder-deocder model versus an encoder model trained on the same dataset\n",
    "\n",
    "\n",
    "You can insert images in this notebook text, [see this link](https://stackoverflow.com/questions/50670920/how-to-insert-an-inline-image-in-google-colaboratory-from-google-drive) and example below:\n",
    "\n",
    "![sample_image.png](https://drive.google.com/uc?export=view&id=1g2efvsRJDxTxKz-OY3loMhihrEUdBxbc)\n"
   ]
  },
  {
   "cell_type": "markdown",
   "metadata": {
    "id": "LM4WUjz64C3B"
   },
   "source": [
    "\n",
    "You can also use code to display images, see the code below.\n",
    "\n",
    "The images must be saved in Google Drive first.\n"
   ]
  },
  {
   "cell_type": "code",
   "execution_count": null,
   "metadata": {
    "id": "rRksCB1vbYwJ"
   },
   "outputs": [],
   "source": [
    "# no code is required for this section\n",
    "'''\n",
    "if you want to use an image outside this notebook for explanaition,\n",
    "you can upload it to your google drive and show it with OpenCV or matplotlib\n",
    "'''\n",
    "# mount this notebook to your google drive\n",
    "drive.mount('/content/gdrive')\n",
    "\n",
    "# define dirs to workspace and data\n",
    "img_dir = '/content/gdrive/My Drive/Colab Notebooks/<path-to-your-image>'\n",
    "\n",
    "import cv2\n",
    "img = cv2.imread(img_dir)\n",
    "cv2.imshow(\"Title\", img)\n"
   ]
  },
  {
   "cell_type": "markdown",
   "metadata": {
    "id": "xWAHJ_1CdtaA"
   },
   "source": [
    "# Methodology\n",
    "\n",
    "This methodology is the core of your project. It consists of run-able codes with necessary annotations to show the expeiment you executed for testing the hypotheses.\n",
    "\n",
    "The methodology at least contains two subsections **data** and **model** in your experiment.\n",
    "\n",
    "\n",
    "\n"
   ]
  },
  {
   "cell_type": "code",
   "execution_count": null,
   "metadata": {
    "id": "yu61Jp1xrnKk"
   },
   "outputs": [],
   "source": [
    "# import  packages you need\n",
    "import numpy as np\n",
    "from google.colab import drive\n",
    "import torch\n",
    "import transformers\n",
    "import pickle"
   ]
  },
  {
   "cell_type": "markdown",
   "metadata": {
    "id": "2NbPHUTMbkD3"
   },
   "source": [
    "##  Data\n",
    "Data includes raw data (MIMIC III tables), descriptive statistics (our homework questions), and data processing (feature engineering).\n",
    "  * Source of the data: where the data is collected from; if data is synthetic or self-generated, explain how. If possible, please provide a link to the raw datasets.\n",
    "  * Statistics: include basic descriptive statistics of the dataset like size, cross validation split, label distribution, etc.\n",
    "  * Data process: how do you munipulate the data, e.g., change the class labels, split the dataset to train/valid/test, refining the dataset.\n",
    "  * Illustration: printing results, plotting figures for illustration.\n",
    "  * You can upload your raw dataset to Google Drive and mount this Colab to the same directory. If your raw dataset is too large, you can upload the processed dataset and have a code to load the processed dataset."
   ]
  },
  {
   "cell_type": "markdown",
   "metadata": {
    "id": "P85Vi0WSH9pV"
   },
   "source": [
    "# Preprocess the data\n",
    " * Start with raw data from mimiciv\n",
    " * map patients with visits and diagnoses codes\n",
    " * add timestamps or relevant time information\n"
   ]
  },
  {
   "cell_type": "code",
   "execution_count": null,
   "metadata": {
    "id": "aNeZ1q3rH_Xr"
   },
   "outputs": [],
   "source": [
    "#Maps visit_id's to discahrge dates\n",
    "data_df = pd.read_csv('/data/corpora_alpha/MIMIC/physionet.org/files/mimiciv/2.2/hosp/admissions.csv.gz', nrows=None, compression='gzip',\n",
    "            dtype={'subject_id': str, 'hadm_id': str},\n",
    "            error_bad_lines=False)\n",
    "visitid2dischargedate = {}\n",
    "for ind, row in data_df.iterrows():\n",
    "    visitid2dischargedate[row['hadm_id']] = row['dischtime'][0:10]\n",
    "\n",
    "print(min(visitid2dischargedate.values()))\n",
    "print(max(visitid2dischargedate.values()))\n",
    "\n",
    "#creates a dictionary of patients {patient_id (key) : diagnoses codes}\n",
    "data_df = pd.read_csv('/data/corpora_alpha/MIMIC/physionet.org/files/mimiciv/2.2/hosp/diagnoses_icd.csv.gz', nrows=None, compression='gzip',\n",
    "            dtype={'subject_id': str, 'hadm_id': str, 'icd_code': str, 'icd_version': str},\n",
    "            error_bad_lines=False)\n",
    "patients = defaultdict(lambda: defaultdict(list)) #lambda: \"Not Present\"\n",
    "for ind, row in data_df.iterrows():\n",
    "    hadm_id = row['hadm_id']\n",
    "    scrssn = row['subject_id']\n",
    "    visit_date = visitid2dischargedate[hadm_id]\n",
    "    patients[scrssn][visit_date].append(row['icd_version'] +'-'+ row['icd_code']) # 687621183, 912831070\n",
    "\n",
    "num_icd_pat = defaultdict(int)\n",
    "for k,v in patients.items():\n",
    "    for kv, vv in v.items():\n",
    "        for icdcode in vv:\n",
    "            if icdcode.startswith(\"10-\"):\n",
    "                num_icd_pat[k] += 1\n",
    "                break\n",
    "\n",
    "print(len(patients))\n",
    "print(len(num_icd_pat))\n",
    "\n",
    "num_pos = 0\n",
    "for k,v in num_icd_pat.items():\n",
    "    if v > 1:\n",
    "        num_pos += 1\n",
    "print(num_pos)\n",
    "\n",
    "print(\"Done\")\n",
    "\n",
    "#adds timestamps??\n",
    "def icd2cui(patients, logging_step=50000):\n",
    "    dictionary = defaultdict(int)\n",
    "    # cuis_li = []\n",
    "    cuis_di = {}\n",
    "    date_di = {}\n",
    "    num_idx = 0\n",
    "    for pssn,v in patients.items():\n",
    "        num_idx += 1\n",
    "        if num_idx%logging_step == 0:\n",
    "            print(\"|{} - Processed {}\".format(time.asctime(time.localtime(time.time())), num_idx), flush=True)\n",
    "        cuis_di[pssn] = []\n",
    "        cuis_li_tmp = []\n",
    "        date_li_tmp = []\n",
    "        for datetime_str in sorted(v.keys()): # sort by time\n",
    "            datetime_object = datetime.strptime(datetime_str, '%Y-%m-%d') # make sure time str is correct\n",
    "            infos = v[datetime_str]\n",
    "            if len(infos) > 0:\n",
    "                # cuis_di[pssn].append((cuis, ext_cuis, strs))\n",
    "                cuis_li_tmp.append((infos, [], []))\n",
    "                date_li_tmp.append(datetime_str)\n",
    "            for cui_id in infos:\n",
    "                dictionary[cui_id] += 1\n",
    "        if len(cuis_li_tmp) > 0:\n",
    "            cuis_di[pssn] = cuis_li_tmp\n",
    "            date_di[pssn] = date_li_tmp\n",
    "    return cuis_di, date_di, dictionary\n",
    "\n",
    "#putting everything together\n",
    "patients_few = dict(islice(patients.items(), 0, 200))\n",
    "cuis, date, dictionary = icd2cui(patients, logging_step=50000)\n",
    "\n",
    "#Saving the preprocessed data into 3 seperate files\n",
    "dir_apth = 'path/to/file' #file to save preprocessed data\n",
    "print(\"Number of cui in dictionary: {}\".format(len(dictionary)), flush=True)\n",
    "with open(dir_apth + '/dict.txt', 'w') as handle: #TODO\n",
    "    handle.write(\"[PAD]\"+\"\\n\")\n",
    "    for i in range(99):\n",
    "        handle.write(\"[unused{}]\".format(i)+\"\\n\")\n",
    "    handle.write(\"[UNK]\"+\"\\n\")\n",
    "    handle.write(\"[CLS]\"+\"\\n\")\n",
    "    handle.write(\"[SEP]\"+\"\\n\")\n",
    "    handle.write(\"[MASK]\"+\"\\n\")\n",
    "    for i in range(99,194):\n",
    "        handle.write(\"[unused{}]\".format(i)+\"\\n\")\n",
    "    for k,v in dictionary.items():\n",
    "        handle.write(\"{}\\n\".format(k))\n",
    "# save data\n",
    "print(\"Saving patient data...\", flush=True)\n",
    "f1 = open(dir_apth + '/value.pickle', 'wb')\n",
    "f3 = open(dir_apth + '/dates.pickle', 'wb')\n",
    "f2 = open(dir_apth + '/key.txt', 'w')\n",
    "for k,v in cuis.items():\n",
    "    pickle.dump(v, f1, protocol=pickle.HIGHEST_PROTOCOL)\n",
    "    pickle.dump(date[k], f3, protocol=pickle.HIGHEST_PROTOCOL)\n",
    "    f2.write(\"{}\\n\".format(k))\n",
    "f1.close()\n",
    "f3.close()\n",
    "f2.close()\n",
    "\n",
    "print(\"Done\")"
   ]
  },
  {
   "cell_type": "markdown",
   "metadata": {
    "id": "-h2D4j5CQRit"
   },
   "source": [
    "# Loading the Data from 3 previously saved files"
   ]
  },
  {
   "cell_type": "code",
   "execution_count": null,
   "metadata": {
    "id": "suHKWTBVQT3v"
   },
   "outputs": [],
   "source": [
    "import pickle\n",
    "\n",
    "dir_path = \"./train_data\" #edit with path file\n",
    "do_date = True\n",
    "\n",
    "\n",
    "f1 = open(dir_path+ '/value.pickle', 'rb')\n",
    "f3 = open(dir_path+ '/dates.pickle', 'rb')\n",
    "f2 = open(dir_path+ '/key.txt', 'r')\n",
    "keys = f2.readlines()\n",
    "\n",
    "patients = {}\n",
    "for key in keys:\n",
    "    patient_idd = key.strip()\n",
    "    each_visit = pickle.load(f1)\n",
    "    f1obj = []\n",
    "    for (cuis, ext_cuis, strs) in each_visit:\n",
    "        f1obj.append((cuis, [], []))\n",
    "    f3obj = pickle.load(f3)\n",
    "    assert len(f1obj) == len(f3obj)\n",
    "    if do_date:\n",
    "        if patient_idd in patients:\n",
    "            patients[patient_idd] += list(zip(f1obj, f3obj))\n",
    "        else:\n",
    "            patients[patient_idd] = list(zip(f1obj, f3obj))\n",
    "    else:\n",
    "        if patient_idd in patients:\n",
    "            patients[patient_idd] += f1obj\n",
    "        else:\n",
    "            patients[patient_idd] = f1obj\n",
    "\n",
    "print(\"number of patients in the sample dataset: \", len(patients))"
   ]
  },
  {
   "cell_type": "markdown",
   "metadata": {
    "id": "3muyDPFPbozY"
   },
   "source": [
    "##   Model\n",
    "The model includes the model definitation which usually is a class, model training, and other necessary parts.\n",
    "  * Model architecture: layer number/size/type, activation function, etc\n",
    "  * Training objectives: loss function, optimizer, weight of each loss term, etc\n",
    "  * Others: whether the model is pretrained, Monte Carlo simulation for uncertainty analysis, etc\n",
    "  * The code of model should have classes of the model, functions of model training, model validation, etc.\n",
    "  * If your model training is done outside of this notebook, please upload the trained model here and develop a function to load and test it."
   ]
  },
  {
   "cell_type": "code",
   "execution_count": null,
   "metadata": {
    "id": "gBdVZoTvsSFV"
   },
   "outputs": [],
   "source": [
    "class my_model():\n",
    "  # use this class to define your model\n",
    "  pass\n",
    "\n",
    "model = my_model()\n",
    "loss_func = None\n",
    "optimizer = None\n",
    "\n",
    "def train_model_one_iter(model, loss_func, optimizer):\n",
    "  pass\n",
    "\n",
    "num_epoch = 10\n",
    "# model training loop: it is better to print the training/validation losses during the training\n",
    "for i in range(num_epoch):\n",
    "  train_model_one_iter(model, loss_func, optimizer)\n",
    "  train_loss, valid_loss = None, None\n",
    "  print(\"Train Loss: %.2f, Validation Loss: %.2f\" % (train_loss, valid_loss))\n"
   ]
  },
  {
   "cell_type": "markdown",
   "metadata": {
    "id": "gX6bCcZNuxmz"
   },
   "source": [
    "# Results\n",
    "In this section, you should finish training your model training or loading your trained model. That is a great experiment! You should share the results with others with necessary metrics and figures.\n",
    "\n",
    "Please test and report results for all experiments that you run with:\n",
    "\n",
    "*   specific numbers (accuracy, AUC, RMSE, etc)\n",
    "*   figures (loss shrinkage, outputs from GAN, annotation or label of sample pictures, etc)\n"
   ]
  },
  {
   "cell_type": "code",
   "execution_count": null,
   "metadata": {
    "id": "LjW9bCkouv8O"
   },
   "outputs": [],
   "source": [
    "# metrics to evaluate my model\n",
    "\n",
    "# plot figures to better show the results\n",
    "\n",
    "# it is better to save the numbers and figures for your presentation."
   ]
  },
  {
   "cell_type": "markdown",
   "metadata": {
    "id": "8EAWAy_LwHlV"
   },
   "source": [
    "## Model comparison"
   ]
  },
  {
   "cell_type": "code",
   "execution_count": null,
   "metadata": {
    "id": "uOdhGrbwwG71"
   },
   "outputs": [],
   "source": [
    "# compare you model with others\n",
    "# you don't need to re-run all other experiments, instead, you can directly refer the metrics/numbers in the paper"
   ]
  },
  {
   "cell_type": "markdown",
   "metadata": {
    "id": "qH75TNU71eRH"
   },
   "source": [
    "# Discussion\n",
    "\n",
    "In this section,you should discuss your work and make future plan. The discussion should address the following questions:\n",
    "  * Make assessment that the paper is reproducible or not.\n",
    "  * Explain why it is not reproducible if your results are kind negative.\n",
    "  * Describe “What was easy” and “What was difficult” during the reproduction.\n",
    "  * Make suggestions to the author or other reproducers on how to improve the reproducibility.\n",
    "  * What will you do in next phase.\n",
    "\n"
   ]
  },
  {
   "cell_type": "code",
   "execution_count": null,
   "metadata": {
    "id": "E2VDXo5F4Frm"
   },
   "outputs": [],
   "source": [
    "# no code is required for this section\n",
    "'''\n",
    "if you want to use an image outside this notebook for explanaition,\n",
    "you can read and plot it here like the Scope of Reproducibility\n",
    "'''"
   ]
  },
  {
   "cell_type": "markdown",
   "metadata": {
    "id": "SHMI2chl9omn"
   },
   "source": [
    "# References\n",
    "\n",
    "1.   Sun, J, [paper title], [journal title], [year], [volume]:[issue], doi: [doi link to paper]\n",
    "\n"
   ]
  },
  {
   "cell_type": "markdown",
   "metadata": {
    "id": "xmVuzQ724HbO"
   },
   "source": [
    "# Feel free to add new sections"
   ]
  }
 ],
 "metadata": {
  "colab": {
   "private_outputs": true,
   "provenance": []
  },
  "kernelspec": {
   "display_name": "Python 3",
   "name": "python3"
  },
  "language_info": {
   "name": "python"
  }
 },
 "nbformat": 4,
 "nbformat_minor": 0
}
